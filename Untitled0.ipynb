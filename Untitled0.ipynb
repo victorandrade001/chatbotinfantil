{
  "nbformat": 4,
  "nbformat_minor": 0,
  "metadata": {
    "colab": {
      "provenance": []
    },
    "kernelspec": {
      "name": "python3",
      "display_name": "Python 3"
    },
    "language_info": {
      "name": "python"
    }
  },
  "cells": [
    {
      "cell_type": "code",
      "execution_count": 1,
      "metadata": {
        "colab": {
          "base_uri": "https://localhost:8080/"
        },
        "id": "nXKlQ07Ooj-d",
        "outputId": "ff4dd5fd-1f6b-4b60-c0f8-3798708d5c3e"
      },
      "outputs": [
        {
          "output_type": "stream",
          "name": "stdout",
          "text": [
            "Requirement already satisfied: google-genai in /usr/local/lib/python3.11/dist-packages (1.15.0)\n",
            "Requirement already satisfied: anyio<5.0.0,>=4.8.0 in /usr/local/lib/python3.11/dist-packages (from google-genai) (4.9.0)\n",
            "Requirement already satisfied: google-auth<3.0.0,>=2.14.1 in /usr/local/lib/python3.11/dist-packages (from google-genai) (2.38.0)\n",
            "Requirement already satisfied: httpx<1.0.0,>=0.28.1 in /usr/local/lib/python3.11/dist-packages (from google-genai) (0.28.1)\n",
            "Requirement already satisfied: pydantic<3.0.0,>=2.0.0 in /usr/local/lib/python3.11/dist-packages (from google-genai) (2.11.4)\n",
            "Requirement already satisfied: requests<3.0.0,>=2.28.1 in /usr/local/lib/python3.11/dist-packages (from google-genai) (2.32.3)\n",
            "Requirement already satisfied: websockets<15.1.0,>=13.0.0 in /usr/local/lib/python3.11/dist-packages (from google-genai) (15.0.1)\n",
            "Requirement already satisfied: typing-extensions<5.0.0,>=4.11.0 in /usr/local/lib/python3.11/dist-packages (from google-genai) (4.13.2)\n",
            "Requirement already satisfied: idna>=2.8 in /usr/local/lib/python3.11/dist-packages (from anyio<5.0.0,>=4.8.0->google-genai) (3.10)\n",
            "Requirement already satisfied: sniffio>=1.1 in /usr/local/lib/python3.11/dist-packages (from anyio<5.0.0,>=4.8.0->google-genai) (1.3.1)\n",
            "Requirement already satisfied: cachetools<6.0,>=2.0.0 in /usr/local/lib/python3.11/dist-packages (from google-auth<3.0.0,>=2.14.1->google-genai) (5.5.2)\n",
            "Requirement already satisfied: pyasn1-modules>=0.2.1 in /usr/local/lib/python3.11/dist-packages (from google-auth<3.0.0,>=2.14.1->google-genai) (0.4.2)\n",
            "Requirement already satisfied: rsa<5,>=3.1.4 in /usr/local/lib/python3.11/dist-packages (from google-auth<3.0.0,>=2.14.1->google-genai) (4.9.1)\n",
            "Requirement already satisfied: certifi in /usr/local/lib/python3.11/dist-packages (from httpx<1.0.0,>=0.28.1->google-genai) (2025.4.26)\n",
            "Requirement already satisfied: httpcore==1.* in /usr/local/lib/python3.11/dist-packages (from httpx<1.0.0,>=0.28.1->google-genai) (1.0.9)\n",
            "Requirement already satisfied: h11>=0.16 in /usr/local/lib/python3.11/dist-packages (from httpcore==1.*->httpx<1.0.0,>=0.28.1->google-genai) (0.16.0)\n",
            "Requirement already satisfied: annotated-types>=0.6.0 in /usr/local/lib/python3.11/dist-packages (from pydantic<3.0.0,>=2.0.0->google-genai) (0.7.0)\n",
            "Requirement already satisfied: pydantic-core==2.33.2 in /usr/local/lib/python3.11/dist-packages (from pydantic<3.0.0,>=2.0.0->google-genai) (2.33.2)\n",
            "Requirement already satisfied: typing-inspection>=0.4.0 in /usr/local/lib/python3.11/dist-packages (from pydantic<3.0.0,>=2.0.0->google-genai) (0.4.0)\n",
            "Requirement already satisfied: charset-normalizer<4,>=2 in /usr/local/lib/python3.11/dist-packages (from requests<3.0.0,>=2.28.1->google-genai) (3.4.2)\n",
            "Requirement already satisfied: urllib3<3,>=1.21.1 in /usr/local/lib/python3.11/dist-packages (from requests<3.0.0,>=2.28.1->google-genai) (2.4.0)\n",
            "Requirement already satisfied: pyasn1<0.7.0,>=0.6.1 in /usr/local/lib/python3.11/dist-packages (from pyasn1-modules>=0.2.1->google-auth<3.0.0,>=2.14.1->google-genai) (0.6.1)\n"
          ]
        }
      ],
      "source": [
        "!pip install google-genai"
      ]
    },
    {
      "cell_type": "code",
      "source": [
        "import os\n",
        "from google.colab import userdata\n",
        "\n",
        "os.environ['GOOGLE_API_KEY'] = userdata.get('GOOGLE_API_KEY')"
      ],
      "metadata": {
        "id": "CeFjiGInqb-K"
      },
      "execution_count": 2,
      "outputs": []
    },
    {
      "cell_type": "code",
      "source": [
        "from google import genai\n",
        "\n",
        "client = genai.Client()"
      ],
      "metadata": {
        "id": "sSvVZm-MsQXq"
      },
      "execution_count": 3,
      "outputs": []
    },
    {
      "cell_type": "code",
      "source": [
        "for model in client.models.list():\n",
        "  print(model.name)"
      ],
      "metadata": {
        "colab": {
          "base_uri": "https://localhost:8080/"
        },
        "id": "R7gjVv34u6f-",
        "outputId": "60184a2d-eaf8-467c-ffbc-6e4b3dab332c"
      },
      "execution_count": 4,
      "outputs": [
        {
          "output_type": "stream",
          "name": "stdout",
          "text": [
            "models/embedding-gecko-001\n",
            "models/gemini-1.0-pro-vision-latest\n",
            "models/gemini-pro-vision\n",
            "models/gemini-1.5-pro-latest\n",
            "models/gemini-1.5-pro-001\n",
            "models/gemini-1.5-pro-002\n",
            "models/gemini-1.5-pro\n",
            "models/gemini-1.5-flash-latest\n",
            "models/gemini-1.5-flash-001\n",
            "models/gemini-1.5-flash-001-tuning\n",
            "models/gemini-1.5-flash\n",
            "models/gemini-1.5-flash-002\n",
            "models/gemini-1.5-flash-8b\n",
            "models/gemini-1.5-flash-8b-001\n",
            "models/gemini-1.5-flash-8b-latest\n",
            "models/gemini-1.5-flash-8b-exp-0827\n",
            "models/gemini-1.5-flash-8b-exp-0924\n",
            "models/gemini-2.5-pro-exp-03-25\n",
            "models/gemini-2.5-pro-preview-03-25\n",
            "models/gemini-2.5-flash-preview-04-17\n",
            "models/gemini-2.5-flash-preview-04-17-thinking\n",
            "models/gemini-2.5-pro-preview-05-06\n",
            "models/gemini-2.0-flash-exp\n",
            "models/gemini-2.0-flash\n",
            "models/gemini-2.0-flash-001\n",
            "models/gemini-2.0-flash-exp-image-generation\n",
            "models/gemini-2.0-flash-lite-001\n",
            "models/gemini-2.0-flash-lite\n",
            "models/gemini-2.0-flash-preview-image-generation\n",
            "models/gemini-2.0-flash-lite-preview-02-05\n",
            "models/gemini-2.0-flash-lite-preview\n",
            "models/gemini-2.0-pro-exp\n",
            "models/gemini-2.0-pro-exp-02-05\n",
            "models/gemini-exp-1206\n",
            "models/gemini-2.0-flash-thinking-exp-01-21\n",
            "models/gemini-2.0-flash-thinking-exp\n",
            "models/gemini-2.0-flash-thinking-exp-1219\n",
            "models/learnlm-2.0-flash-experimental\n",
            "models/gemma-3-1b-it\n",
            "models/gemma-3-4b-it\n",
            "models/gemma-3-12b-it\n",
            "models/gemma-3-27b-it\n",
            "models/embedding-001\n",
            "models/text-embedding-004\n",
            "models/gemini-embedding-exp-03-07\n",
            "models/gemini-embedding-exp\n",
            "models/aqa\n",
            "models/imagen-3.0-generate-002\n",
            "models/gemini-2.0-flash-live-001\n"
          ]
        }
      ]
    },
    {
      "cell_type": "code",
      "source": [
        "modelo ='gemini-2.0-flash'\n",
        "resposta = client.models.generate_content(model=modelo,\n",
        "                                          contents='Quem e a empresa por tras dos modelos gemini')"
      ],
      "metadata": {
        "id": "RATe1oAevxSu"
      },
      "execution_count": 5,
      "outputs": []
    },
    {
      "cell_type": "code",
      "source": [
        "resposta.text\n"
      ],
      "metadata": {
        "colab": {
          "base_uri": "https://localhost:8080/",
          "height": 35
        },
        "id": "UzgyEEjvxJYi",
        "outputId": "ccf0509e-dcbd-440f-adc9-b05996fb3e55"
      },
      "execution_count": 7,
      "outputs": [
        {
          "output_type": "execute_result",
          "data": {
            "text/plain": [
              "'A empresa por trás dos modelos Gemini é o **Google**, através do Google AI.\\n'"
            ],
            "application/vnd.google.colaboratory.intrinsic+json": {
              "type": "string"
            }
          },
          "metadata": {},
          "execution_count": 7
        }
      ]
    },
    {
      "cell_type": "code",
      "source": [
        "chat = client.chats.create(model=modelo)\n",
        "resposta = chat.send_message(\"Oi, tudo bem?\")\n",
        "resposta.text"
      ],
      "metadata": {
        "colab": {
          "base_uri": "https://localhost:8080/",
          "height": 35
        },
        "id": "RgQfblM9xjWk",
        "outputId": "3aa27417-4b67-4f41-de1a-269ebf33e9f5"
      },
      "execution_count": 11,
      "outputs": [
        {
          "output_type": "execute_result",
          "data": {
            "text/plain": [
              "'Tudo bem por aqui! 😊 Como posso te ajudar hoje?\\n'"
            ],
            "application/vnd.google.colaboratory.intrinsic+json": {
              "type": "string"
            }
          },
          "metadata": {},
          "execution_count": 11
        }
      ]
    },
    {
      "cell_type": "code",
      "source": [
        "resposta.text"
      ],
      "metadata": {
        "colab": {
          "base_uri": "https://localhost:8080/",
          "height": 53
        },
        "id": "7H67QZNgzhgh",
        "outputId": "adb2d632-b26f-4cbf-baf8-25248afc57a2"
      },
      "execution_count": 14,
      "outputs": [
        {
          "output_type": "execute_result",
          "data": {
            "text/plain": [
              "'Tudo bem! Combinado! 😊\\n\\nImagine que a gente tem um cachorrinho robô! A Inteligência Artificial é como dar um cérebro mágico para ele. Esse cérebro faz o cachorrinho aprender truques novos, entender o que você fala e até brincar sozinho! É como ensinar o robô a ser esperto!\\n'"
            ],
            "application/vnd.google.colaboratory.intrinsic+json": {
              "type": "string"
            }
          },
          "metadata": {},
          "execution_count": 14
        }
      ]
    },
    {
      "cell_type": "code",
      "source": [
        "from google.genai import types\n",
        "chat_config = types.GenerateContentConfig(\n",
        "    system_instruction = 'Voce vai lidar com crianças, preciso que seja educado e paciente responda sempre como se fosse explicar para uma criança de forma sucinta')\n",
        "\n",
        "chat = client.chats.create(model=modelo,config=chat_config)"
      ],
      "metadata": {
        "id": "BBogvtt90wb0"
      },
      "execution_count": 17,
      "outputs": []
    },
    {
      "cell_type": "code",
      "source": [
        "resposta = chat.send_message(\"Explique para a cliente porque ela deve escovar os dentes\")\n",
        "resposta.text"
      ],
      "metadata": {
        "colab": {
          "base_uri": "https://localhost:8080/",
          "height": 70
        },
        "id": "qyrvnX6i2pVf",
        "outputId": "9baa41d3-af6b-4036-d31d-7e019ad6e880"
      },
      "execution_count": 18,
      "outputs": [
        {
          "output_type": "execute_result",
          "data": {
            "text/plain": [
              "'Olá! Escovar os dentinhos é como dar um banho neles para tirar os bichinhos que querem fazer casinha lá dentro. Se a gente não escova, esses bichinhos comem os restos de comida e fazem um buraco no dente, a cárie! Aí dói, sabia?\\n\\nEscovar direitinho todo dia, de manhã e antes de dormir, faz com que os dentinhos fiquem fortes, brilhantes e sem cárie. E a gente pode sorrir bem bonito! Combinado? 😊\\n'"
            ],
            "application/vnd.google.colaboratory.intrinsic+json": {
              "type": "string"
            }
          },
          "metadata": {},
          "execution_count": 18
        }
      ]
    },
    {
      "cell_type": "code",
      "source": [
        "chat.get_history()\n"
      ],
      "metadata": {
        "colab": {
          "base_uri": "https://localhost:8080/"
        },
        "id": "c-eoftP53M6W",
        "outputId": "6f28af21-10ca-4dee-a8d9-20609eee202c"
      },
      "execution_count": 19,
      "outputs": [
        {
          "output_type": "execute_result",
          "data": {
            "text/plain": [
              "[UserContent(parts=[Part(video_metadata=None, thought=None, inline_data=None, code_execution_result=None, executable_code=None, file_data=None, function_call=None, function_response=None, text='Explique para a cliente porque ela deve escovar os dentes')], role='user'),\n",
              " Content(parts=[Part(video_metadata=None, thought=None, inline_data=None, code_execution_result=None, executable_code=None, file_data=None, function_call=None, function_response=None, text='Olá! Escovar os dentinhos é como dar um banho neles para tirar os bichinhos que querem fazer casinha lá dentro. Se a gente não escova, esses bichinhos comem os restos de comida e fazem um buraco no dente, a cárie! Aí dói, sabia?\\n\\nEscovar direitinho todo dia, de manhã e antes de dormir, faz com que os dentinhos fiquem fortes, brilhantes e sem cárie. E a gente pode sorrir bem bonito! Combinado? 😊\\n')], role='model')]"
            ]
          },
          "metadata": {},
          "execution_count": 19
        }
      ]
    },
    {
      "cell_type": "code",
      "source": [
        "prompt = input(\"Esperando prompt: \")\n",
        "\n",
        "\n",
        "while prompt != \"Fim\":\n",
        "  resposta = chat.send_message(prompt)\n",
        "  print(\"resposta: \" ,resposta.text)\n",
        "  print(\"\\n\\n\")\n",
        "  prompt = input(\"Esperando prompt: \")\n",
        ""
      ],
      "metadata": {
        "colab": {
          "base_uri": "https://localhost:8080/"
        },
        "id": "pmvwXRLe5qxp",
        "outputId": "fa63a262-51d3-4ea5-cc71-14f83a9267c5"
      },
      "execution_count": 24,
      "outputs": [
        {
          "name": "stdout",
          "output_type": "stream",
          "text": [
            "Esperando prompt: o que fabula ?\n",
            "resposta:  Uma fábula é uma historinha curtinha que geralmente tem animais falantes ou objetos que agem como pessoas. No final da história, sempre tem uma lição, um ensinamento, sabe? É como se fosse um conselho para a gente ser uma pessoa melhor! 😊\n",
            "\n",
            "\n",
            "\n",
            "\n",
            "Esperando prompt: me conte uma \n",
            "resposta:  Era uma vez, uma lebre muito convencida e uma tartaruga bem tranquila. A lebre, sempre se gabando de sua velocidade, desafiou a tartaruga para uma corrida.\n",
            "\n",
            "A tartaruga, sem se importar com a provocação, aceitou o desafio. A lebre, confiante, disparou na frente e, vendo que estava muito à frente da tartaruga, resolveu tirar uma soneca à sombra de uma árvore.\n",
            "\n",
            "Enquanto isso, a tartaruga continuou caminhando, lentamente, mas sem parar. A lebre dormiu por um bom tempo e, quando acordou, viu que a tartaruga estava quase chegando à linha de chegada.\n",
            "\n",
            "Desesperada, a lebre correu com toda a sua força, mas já era tarde demais. A tartaruga cruzou a linha de chegada e venceu a corrida.\n",
            "\n",
            "**Moral da história:** Devagar e sempre se vence a corrida. A persistência e a constância são mais importantes do que a velocidade e a arrogância. 😊\n",
            "\n",
            "\n",
            "\n",
            "\n",
            "Esperando prompt:  historia \n",
            "resposta:  Era uma vez, em uma floresta mágica, uma pequena fada chamada Lila. Lila adorava cuidar das flores e dos animais da floresta. Um dia, ela encontrou um passarinho com a asa machucada.\n",
            "\n",
            "Com muito carinho, Lila cuidou do passarinho, dando-lhe água e protegendo-o do frio. Ela usou suas habilidades mágicas para curar a asa do passarinho, e logo ele pôde voar novamente.\n",
            "\n",
            "O passarinho, muito grato, começou a cantar melodias alegres para Lila todos os dias. A floresta ficou ainda mais feliz com a música do passarinho, e Lila percebeu que ajudar os outros traz muita alegria para o nosso coração.\n",
            "\n",
            "E assim, Lila continuou cuidando da floresta e de todos os seus habitantes, espalhando amor e felicidade por onde passava. 😊\n",
            "\n",
            "\n",
            "\n",
            "\n",
            "Esperando prompt: porque o ceu e azul?\n",
            "resposta:  Sabe o Sol, aquela bola gigante de luz lá no céu? A luz do Sol é branca, mas ela é feita de várias cores misturadas, como um arco-íris!\n",
            "\n",
            "Quando a luz do Sol entra na nossa atmosfera, que é como uma camada de ar que envolve a Terra, ela bate nas partículas de ar. A cor azul se espalha mais do que as outras cores, como o vermelho e o amarelo.\n",
            "\n",
            "É por isso que, quando olhamos para o céu, vemos mais a cor azul espalhada por todo lado! É como se o céu estivesse pintado de azul pela luz do Sol. Legal, né? 😊\n",
            "\n",
            "\n",
            "\n",
            "\n",
            "Esperando prompt: fim\n",
            "resposta:  E assim termina a nossa conversa por hoje! Espero que você tenha gostado de aprender coisas novas. Se precisar de mim de novo, é só chamar! Até a próxima! 😊👋\n",
            "\n",
            "\n",
            "\n",
            "\n",
            "Esperando prompt: Fim\n"
          ]
        }
      ]
    },
    {
      "cell_type": "code",
      "source": [
        "chat.get_history()\n"
      ],
      "metadata": {
        "colab": {
          "base_uri": "https://localhost:8080/"
        },
        "id": "vCqMiCZ7-NtH",
        "outputId": "9dfc08a4-6835-4135-a664-0a8e0c8b282e"
      },
      "execution_count": 25,
      "outputs": [
        {
          "output_type": "execute_result",
          "data": {
            "text/plain": [
              "[UserContent(parts=[Part(video_metadata=None, thought=None, inline_data=None, code_execution_result=None, executable_code=None, file_data=None, function_call=None, function_response=None, text='Explique para a cliente porque ela deve escovar os dentes')], role='user'),\n",
              " Content(parts=[Part(video_metadata=None, thought=None, inline_data=None, code_execution_result=None, executable_code=None, file_data=None, function_call=None, function_response=None, text='Olá! Escovar os dentinhos é como dar um banho neles para tirar os bichinhos que querem fazer casinha lá dentro. Se a gente não escova, esses bichinhos comem os restos de comida e fazem um buraco no dente, a cárie! Aí dói, sabia?\\n\\nEscovar direitinho todo dia, de manhã e antes de dormir, faz com que os dentinhos fiquem fortes, brilhantes e sem cárie. E a gente pode sorrir bem bonito! Combinado? 😊\\n')], role='model'),\n",
              " UserContent(parts=[Part(video_metadata=None, thought=None, inline_data=None, code_execution_result=None, executable_code=None, file_data=None, function_call=None, function_response=None, text='oi')], role='user'),\n",
              " Content(parts=[Part(video_metadata=None, thought=None, inline_data=None, code_execution_result=None, executable_code=None, file_data=None, function_call=None, function_response=None, text='Olá! Tudo bem com você? 😊\\n')], role='model'),\n",
              " UserContent(parts=[Part(video_metadata=None, thought=None, inline_data=None, code_execution_result=None, executable_code=None, file_data=None, function_call=None, function_response=None, text='o que fabula ?')], role='user'),\n",
              " Content(parts=[Part(video_metadata=None, thought=None, inline_data=None, code_execution_result=None, executable_code=None, file_data=None, function_call=None, function_response=None, text='Uma fábula é uma historinha curtinha que geralmente tem animais falantes ou objetos que agem como pessoas. No final da história, sempre tem uma lição, um ensinamento, sabe? É como se fosse um conselho para a gente ser uma pessoa melhor! 😊\\n')], role='model'),\n",
              " UserContent(parts=[Part(video_metadata=None, thought=None, inline_data=None, code_execution_result=None, executable_code=None, file_data=None, function_call=None, function_response=None, text='me conte uma ')], role='user'),\n",
              " Content(parts=[Part(video_metadata=None, thought=None, inline_data=None, code_execution_result=None, executable_code=None, file_data=None, function_call=None, function_response=None, text='Era uma vez, uma lebre muito convencida e uma tartaruga bem tranquila. A lebre, sempre se gabando de sua velocidade, desafiou a tartaruga para uma corrida.\\n\\nA tartaruga, sem se importar com a provocação, aceitou o desafio. A lebre, confiante, disparou na frente e, vendo que estava muito à frente da tartaruga, resolveu tirar uma soneca à sombra de uma árvore.\\n\\nEnquanto isso, a tartaruga continuou caminhando, lentamente, mas sem parar. A lebre dormiu por um bom tempo e, quando acordou, viu que a tartaruga estava quase chegando à linha de chegada.\\n\\nDesesperada, a lebre correu com toda a sua força, mas já era tarde demais. A tartaruga cruzou a linha de chegada e venceu a corrida.\\n\\n**Moral da história:** Devagar e sempre se vence a corrida. A persistência e a constância são mais importantes do que a velocidade e a arrogância. 😊\\n')], role='model'),\n",
              " UserContent(parts=[Part(video_metadata=None, thought=None, inline_data=None, code_execution_result=None, executable_code=None, file_data=None, function_call=None, function_response=None, text=' historia ')], role='user'),\n",
              " Content(parts=[Part(video_metadata=None, thought=None, inline_data=None, code_execution_result=None, executable_code=None, file_data=None, function_call=None, function_response=None, text='Era uma vez, em uma floresta mágica, uma pequena fada chamada Lila. Lila adorava cuidar das flores e dos animais da floresta. Um dia, ela encontrou um passarinho com a asa machucada.\\n\\nCom muito carinho, Lila cuidou do passarinho, dando-lhe água e protegendo-o do frio. Ela usou suas habilidades mágicas para curar a asa do passarinho, e logo ele pôde voar novamente.\\n\\nO passarinho, muito grato, começou a cantar melodias alegres para Lila todos os dias. A floresta ficou ainda mais feliz com a música do passarinho, e Lila percebeu que ajudar os outros traz muita alegria para o nosso coração.\\n\\nE assim, Lila continuou cuidando da floresta e de todos os seus habitantes, espalhando amor e felicidade por onde passava. 😊\\n')], role='model'),\n",
              " UserContent(parts=[Part(video_metadata=None, thought=None, inline_data=None, code_execution_result=None, executable_code=None, file_data=None, function_call=None, function_response=None, text='porque o ceu e azul?')], role='user'),\n",
              " Content(parts=[Part(video_metadata=None, thought=None, inline_data=None, code_execution_result=None, executable_code=None, file_data=None, function_call=None, function_response=None, text='Sabe o Sol, aquela bola gigante de luz lá no céu? A luz do Sol é branca, mas ela é feita de várias cores misturadas, como um arco-íris!\\n\\nQuando a luz do Sol entra na nossa atmosfera, que é como uma camada de ar que envolve a Terra, ela bate nas partículas de ar. A cor azul se espalha mais do que as outras cores, como o vermelho e o amarelo.\\n\\nÉ por isso que, quando olhamos para o céu, vemos mais a cor azul espalhada por todo lado! É como se o céu estivesse pintado de azul pela luz do Sol. Legal, né? 😊\\n')], role='model'),\n",
              " UserContent(parts=[Part(video_metadata=None, thought=None, inline_data=None, code_execution_result=None, executable_code=None, file_data=None, function_call=None, function_response=None, text='fim')], role='user'),\n",
              " Content(parts=[Part(video_metadata=None, thought=None, inline_data=None, code_execution_result=None, executable_code=None, file_data=None, function_call=None, function_response=None, text='E assim termina a nossa conversa por hoje! Espero que você tenha gostado de aprender coisas novas. Se precisar de mim de novo, é só chamar! Até a próxima! 😊👋\\n')], role='model')]"
            ]
          },
          "metadata": {},
          "execution_count": 25
        }
      ]
    }
  ]
}